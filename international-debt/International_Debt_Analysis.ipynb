{
 "cells": [
  {
   "cell_type": "code",
   "execution_count": 8,
   "metadata": {},
   "outputs": [],
   "source": [
    "# please run the below line if you don't have the packages\n",
    "# !pip install jupysql duckdb duckdb-engine --quiet\n",
    "# !pip install pandas"
   ]
  },
  {
   "cell_type": "code",
   "execution_count": 1,
   "metadata": {},
   "outputs": [],
   "source": [
    "import pandas as pd"
   ]
  },
  {
   "cell_type": "code",
   "execution_count": 2,
   "metadata": {},
   "outputs": [],
   "source": [
    "%load_ext sql\n",
    "%sql duckdb://"
   ]
  },
  {
   "cell_type": "code",
   "execution_count": 3,
   "metadata": {},
   "outputs": [],
   "source": [
    "debt_data = pd.read_csv('international_debt.csv')"
   ]
  },
  {
   "attachments": {},
   "cell_type": "markdown",
   "metadata": {},
   "source": [
    "## The World Bank's international debt data\n",
    "<p>It's not that we humans only take debts to manage our necessities. A country may also take debt to manage its economy. For example, infrastructure spending is one costly ingredient required for a country's citizens to lead comfortable lives. <a href=\"https://www.worldbank.org\">The World Bank</a> is the organization that provides debt to countries.</p>\n",
    "<p>In this notebook, we are going to analyze international debt data collected by The World Bank. The dataset contains information about the amount of debt (in USD) owed by developing countries across several categories. We are going to find the answers to questions like: </p>\n",
    "<ul>\n",
    "<li>What is the total amount of debt that is owed by the countries listed in the dataset?</li>\n",
    "<li>Which country owns the maximum amount of debt and what does that amount look like?</li>\n",
    "<li>What is the average amount of debt owed by countries across different debt indicators?</li>\n",
    "</ul>\n",
    "<p><img src=\"https://assets.datacamp.com/production/project_754/img/image.jpg\" alt></p>\n",
    "From now on we'll be treating the dataframe debt_data as a table in a database currently in memory."
   ]
  },
  {
   "attachments": {},
   "cell_type": "markdown",
   "metadata": {},
   "source": [
    "### Total number of rows"
   ]
  },
  {
   "cell_type": "code",
   "execution_count": 4,
   "metadata": {},
   "outputs": [
    {
     "name": "stdout",
     "output_type": "stream",
     "text": [
      "*  duckdb://\n",
      "Done.\n"
     ]
    },
    {
     "data": {
      "text/html": [
       "<table>\n",
       "    <thead>\n",
       "        <tr>\n",
       "            <th>count_star()</th>\n",
       "        </tr>\n",
       "    </thead>\n",
       "    <tbody>\n",
       "        <tr>\n",
       "            <td>2357</td>\n",
       "        </tr>\n",
       "    </tbody>\n",
       "</table>"
      ],
      "text/plain": [
       "[(2357,)]"
      ]
     },
     "execution_count": 4,
     "metadata": {},
     "output_type": "execute_result"
    }
   ],
   "source": [
    "%%sql\n",
    "SELECT count(*)\n",
    "FROM debt_data"
   ]
  },
  {
   "cell_type": "markdown",
   "metadata": {},
   "source": [
    "### First 5 rows in the table"
   ]
  },
  {
   "cell_type": "code",
   "execution_count": 5,
   "metadata": {},
   "outputs": [
    {
     "name": "stdout",
     "output_type": "stream",
     "text": [
      "*  duckdb://\n",
      "Done.\n"
     ]
    },
    {
     "data": {
      "text/html": [
       "<table>\n",
       "    <thead>\n",
       "        <tr>\n",
       "            <th>country_name</th>\n",
       "            <th>country_code</th>\n",
       "            <th>indicator_name</th>\n",
       "            <th>indicator_code</th>\n",
       "            <th>debt</th>\n",
       "        </tr>\n",
       "    </thead>\n",
       "    <tbody>\n",
       "        <tr>\n",
       "            <td>Afghanistan</td>\n",
       "            <td>AFG</td>\n",
       "            <td>Disbursements on external debt, long-term (DIS, current US$)</td>\n",
       "            <td>DT.DIS.DLXF.CD</td>\n",
       "            <td>72894453.7</td>\n",
       "        </tr>\n",
       "        <tr>\n",
       "            <td>Afghanistan</td>\n",
       "            <td>AFG</td>\n",
       "            <td>Interest payments on external debt, long-term (INT, current US$)</td>\n",
       "            <td>DT.INT.DLXF.CD</td>\n",
       "            <td>53239440.1</td>\n",
       "        </tr>\n",
       "        <tr>\n",
       "            <td>Afghanistan</td>\n",
       "            <td>AFG</td>\n",
       "            <td>PPG, bilateral (AMT, current US$)</td>\n",
       "            <td>DT.AMT.BLAT.CD</td>\n",
       "            <td>61739336.9</td>\n",
       "        </tr>\n",
       "        <tr>\n",
       "            <td>Afghanistan</td>\n",
       "            <td>AFG</td>\n",
       "            <td>PPG, bilateral (DIS, current US$)</td>\n",
       "            <td>DT.DIS.BLAT.CD</td>\n",
       "            <td>49114729.4</td>\n",
       "        </tr>\n",
       "        <tr>\n",
       "            <td>Afghanistan</td>\n",
       "            <td>AFG</td>\n",
       "            <td>PPG, bilateral (INT, current US$)</td>\n",
       "            <td>DT.INT.BLAT.CD</td>\n",
       "            <td>39903620.1</td>\n",
       "        </tr>\n",
       "    </tbody>\n",
       "</table>"
      ],
      "text/plain": [
       "[('Afghanistan', 'AFG', 'Disbursements on external debt, long-term (DIS, current US$)', 'DT.DIS.DLXF.CD', 72894453.7),\n",
       " ('Afghanistan', 'AFG', 'Interest payments on external debt, long-term (INT, current US$)', 'DT.INT.DLXF.CD', 53239440.1),\n",
       " ('Afghanistan', 'AFG', 'PPG, bilateral (AMT, current US$)', 'DT.AMT.BLAT.CD', 61739336.9),\n",
       " ('Afghanistan', 'AFG', 'PPG, bilateral (DIS, current US$)', 'DT.DIS.BLAT.CD', 49114729.4),\n",
       " ('Afghanistan', 'AFG', 'PPG, bilateral (INT, current US$)', 'DT.INT.BLAT.CD', 39903620.1)]"
      ]
     },
     "execution_count": 5,
     "metadata": {},
     "output_type": "execute_result"
    }
   ],
   "source": [
    "%%sql\n",
    "SELECT *\n",
    "FROM debt_data\n",
    "LIMIT 5"
   ]
  },
  {
   "cell_type": "markdown",
   "metadata": {},
   "source": [
    "### Finding number of distinct countries that are in debt"
   ]
  },
  {
   "cell_type": "code",
   "execution_count": 6,
   "metadata": {},
   "outputs": [
    {
     "name": "stdout",
     "output_type": "stream",
     "text": [
      "*  duckdb://\n",
      "Done.\n"
     ]
    },
    {
     "data": {
      "text/html": [
       "<table>\n",
       "    <thead>\n",
       "        <tr>\n",
       "            <th>Country Name</th>\n",
       "        </tr>\n",
       "    </thead>\n",
       "    <tbody>\n",
       "        <tr>\n",
       "            <td>124</td>\n",
       "        </tr>\n",
       "    </tbody>\n",
       "</table>"
      ],
      "text/plain": [
       "[(124,)]"
      ]
     },
     "execution_count": 6,
     "metadata": {},
     "output_type": "execute_result"
    }
   ],
   "source": [
    "%%sql\n",
    "SELECT COUNT(DISTINCT country_name) as \"Country Name\"\n",
    "FROM debt_data"
   ]
  },
  {
   "attachments": {},
   "cell_type": "markdown",
   "metadata": {},
   "source": [
    "### Unique debt indicators(indicator_code)"
   ]
  },
  {
   "cell_type": "code",
   "execution_count": 7,
   "metadata": {},
   "outputs": [
    {
     "name": "stdout",
     "output_type": "stream",
     "text": [
      "*  duckdb://\n",
      "Done.\n"
     ]
    },
    {
     "data": {
      "text/html": [
       "<table>\n",
       "    <thead>\n",
       "        <tr>\n",
       "            <th>indicator_name</th>\n",
       "            <th>indicator_code</th>\n",
       "        </tr>\n",
       "    </thead>\n",
       "    <tbody>\n",
       "        <tr>\n",
       "            <td>Disbursements on external debt, long-term (DIS, current US$)</td>\n",
       "            <td>DT.DIS.DLXF.CD</td>\n",
       "        </tr>\n",
       "        <tr>\n",
       "            <td>Interest payments on external debt, long-term (INT, current US$)</td>\n",
       "            <td>DT.INT.DLXF.CD</td>\n",
       "        </tr>\n",
       "        <tr>\n",
       "            <td>PPG, bilateral (AMT, current US$)</td>\n",
       "            <td>DT.AMT.BLAT.CD</td>\n",
       "        </tr>\n",
       "        <tr>\n",
       "            <td>PPG, bilateral (DIS, current US$)</td>\n",
       "            <td>DT.DIS.BLAT.CD</td>\n",
       "        </tr>\n",
       "        <tr>\n",
       "            <td>PPG, bilateral (INT, current US$)</td>\n",
       "            <td>DT.INT.BLAT.CD</td>\n",
       "        </tr>\n",
       "        <tr>\n",
       "            <td>PPG, multilateral (AMT, current US$)</td>\n",
       "            <td>DT.AMT.MLAT.CD</td>\n",
       "        </tr>\n",
       "        <tr>\n",
       "            <td>PPG, multilateral (DIS, current US$)</td>\n",
       "            <td>DT.DIS.MLAT.CD</td>\n",
       "        </tr>\n",
       "        <tr>\n",
       "            <td>PPG, multilateral (INT, current US$)</td>\n",
       "            <td>DT.INT.MLAT.CD</td>\n",
       "        </tr>\n",
       "        <tr>\n",
       "            <td>PPG, official creditors (AMT, current US$)</td>\n",
       "            <td>DT.AMT.OFFT.CD</td>\n",
       "        </tr>\n",
       "        <tr>\n",
       "            <td>PPG, official creditors (DIS, current US$)</td>\n",
       "            <td>DT.DIS.OFFT.CD</td>\n",
       "        </tr>\n",
       "        <tr>\n",
       "            <td>PPG, official creditors (INT, current US$)</td>\n",
       "            <td>DT.INT.OFFT.CD</td>\n",
       "        </tr>\n",
       "        <tr>\n",
       "            <td>Principal repayments on external debt, long-term (AMT, current US$)</td>\n",
       "            <td>DT.AMT.DLXF.CD</td>\n",
       "        </tr>\n",
       "        <tr>\n",
       "            <td>Interest payments on external debt, private nonguaranteed (PNG) (INT, current US$)</td>\n",
       "            <td>DT.INT.DPNG.CD</td>\n",
       "        </tr>\n",
       "        <tr>\n",
       "            <td>PPG, bonds (AMT, current US$)</td>\n",
       "            <td>DT.AMT.PBND.CD</td>\n",
       "        </tr>\n",
       "        <tr>\n",
       "            <td>PPG, bonds (INT, current US$)</td>\n",
       "            <td>DT.INT.PBND.CD</td>\n",
       "        </tr>\n",
       "        <tr>\n",
       "            <td>PPG, commercial banks (AMT, current US$)</td>\n",
       "            <td>DT.AMT.PCBK.CD</td>\n",
       "        </tr>\n",
       "        <tr>\n",
       "            <td>PPG, commercial banks (DIS, current US$)</td>\n",
       "            <td>DT.DIS.PCBK.CD</td>\n",
       "        </tr>\n",
       "        <tr>\n",
       "            <td>PPG, commercial banks (INT, current US$)</td>\n",
       "            <td>DT.INT.PCBK.CD</td>\n",
       "        </tr>\n",
       "        <tr>\n",
       "            <td>PPG, other private creditors (AMT, current US$)</td>\n",
       "            <td>DT.AMT.PROP.CD</td>\n",
       "        </tr>\n",
       "        <tr>\n",
       "            <td>PPG, other private creditors (DIS, current US$)</td>\n",
       "            <td>DT.DIS.PROP.CD</td>\n",
       "        </tr>\n",
       "        <tr>\n",
       "            <td>PPG, other private creditors (INT, current US$)</td>\n",
       "            <td>DT.INT.PROP.CD</td>\n",
       "        </tr>\n",
       "        <tr>\n",
       "            <td>PPG, private creditors (AMT, current US$)</td>\n",
       "            <td>DT.AMT.PRVT.CD</td>\n",
       "        </tr>\n",
       "        <tr>\n",
       "            <td>PPG, private creditors (DIS, current US$)</td>\n",
       "            <td>DT.DIS.PRVT.CD</td>\n",
       "        </tr>\n",
       "        <tr>\n",
       "            <td>PPG, private creditors (INT, current US$)</td>\n",
       "            <td>DT.INT.PRVT.CD</td>\n",
       "        </tr>\n",
       "        <tr>\n",
       "            <td>Principal repayments on external debt, private nonguaranteed (PNG) (AMT, current US$)</td>\n",
       "            <td>DT.AMT.DPNG.CD</td>\n",
       "        </tr>\n",
       "    </tbody>\n",
       "</table>"
      ],
      "text/plain": [
       "[('Disbursements on external debt, long-term (DIS, current US$)', 'DT.DIS.DLXF.CD'),\n",
       " ('Interest payments on external debt, long-term (INT, current US$)', 'DT.INT.DLXF.CD'),\n",
       " ('PPG, bilateral (AMT, current US$)', 'DT.AMT.BLAT.CD'),\n",
       " ('PPG, bilateral (DIS, current US$)', 'DT.DIS.BLAT.CD'),\n",
       " ('PPG, bilateral (INT, current US$)', 'DT.INT.BLAT.CD'),\n",
       " ('PPG, multilateral (AMT, current US$)', 'DT.AMT.MLAT.CD'),\n",
       " ('PPG, multilateral (DIS, current US$)', 'DT.DIS.MLAT.CD'),\n",
       " ('PPG, multilateral (INT, current US$)', 'DT.INT.MLAT.CD'),\n",
       " ('PPG, official creditors (AMT, current US$)', 'DT.AMT.OFFT.CD'),\n",
       " ('PPG, official creditors (DIS, current US$)', 'DT.DIS.OFFT.CD'),\n",
       " ('PPG, official creditors (INT, current US$)', 'DT.INT.OFFT.CD'),\n",
       " ('Principal repayments on external debt, long-term (AMT, current US$)', 'DT.AMT.DLXF.CD'),\n",
       " ('Interest payments on external debt, private nonguaranteed (PNG) (INT, current US$)', 'DT.INT.DPNG.CD'),\n",
       " ('PPG, bonds (AMT, current US$)', 'DT.AMT.PBND.CD'),\n",
       " ('PPG, bonds (INT, current US$)', 'DT.INT.PBND.CD'),\n",
       " ('PPG, commercial banks (AMT, current US$)', 'DT.AMT.PCBK.CD'),\n",
       " ('PPG, commercial banks (DIS, current US$)', 'DT.DIS.PCBK.CD'),\n",
       " ('PPG, commercial banks (INT, current US$)', 'DT.INT.PCBK.CD'),\n",
       " ('PPG, other private creditors (AMT, current US$)', 'DT.AMT.PROP.CD'),\n",
       " ('PPG, other private creditors (DIS, current US$)', 'DT.DIS.PROP.CD'),\n",
       " ('PPG, other private creditors (INT, current US$)', 'DT.INT.PROP.CD'),\n",
       " ('PPG, private creditors (AMT, current US$)', 'DT.AMT.PRVT.CD'),\n",
       " ('PPG, private creditors (DIS, current US$)', 'DT.DIS.PRVT.CD'),\n",
       " ('PPG, private creditors (INT, current US$)', 'DT.INT.PRVT.CD'),\n",
       " ('Principal repayments on external debt, private nonguaranteed (PNG) (AMT, current US$)', 'DT.AMT.DPNG.CD')]"
      ]
     },
     "execution_count": 7,
     "metadata": {},
     "output_type": "execute_result"
    }
   ],
   "source": [
    "%%sql\n",
    "SELECT DISTINCT indicator_name,indicator_code\n",
    "FROM debt_data"
   ]
  },
  {
   "attachments": {},
   "cell_type": "markdown",
   "metadata": {},
   "source": [
    "### Countries with the highest debts (top 5)"
   ]
  },
  {
   "cell_type": "code",
   "execution_count": 8,
   "metadata": {},
   "outputs": [
    {
     "name": "stdout",
     "output_type": "stream",
     "text": [
      "*  duckdb://\n",
      "Done.\n"
     ]
    },
    {
     "data": {
      "text/html": [
       "<table>\n",
       "    <thead>\n",
       "        <tr>\n",
       "            <th>country_name</th>\n",
       "            <th>Total Debt</th>\n",
       "        </tr>\n",
       "    </thead>\n",
       "    <tbody>\n",
       "        <tr>\n",
       "            <td>China</td>\n",
       "            <td>285793494734.2</td>\n",
       "        </tr>\n",
       "        <tr>\n",
       "            <td>Brazil</td>\n",
       "            <td>280623966140.8</td>\n",
       "        </tr>\n",
       "        <tr>\n",
       "            <td>South Asia</td>\n",
       "            <td>247608723990.6</td>\n",
       "        </tr>\n",
       "        <tr>\n",
       "            <td>Least developed countries: UN classification</td>\n",
       "            <td>212880992791.9</td>\n",
       "        </tr>\n",
       "        <tr>\n",
       "            <td>Russian Federation</td>\n",
       "            <td>191289057259.2</td>\n",
       "        </tr>\n",
       "    </tbody>\n",
       "</table>"
      ],
      "text/plain": [
       "[('China', 285793494734.2),\n",
       " ('Brazil', 280623966140.8),\n",
       " ('South Asia', 247608723990.6),\n",
       " ('Least developed countries: UN classification', 212880992791.9),\n",
       " ('Russian Federation', 191289057259.2)]"
      ]
     },
     "execution_count": 8,
     "metadata": {},
     "output_type": "execute_result"
    }
   ],
   "source": [
    "%%sql\n",
    "SELECT country_name,ROUND(SUM(debt),1) as \"Total Debt\"\n",
    "FROM debt_data\n",
    "GROUP BY country_name\n",
    "ORDER BY SUM(debt) DESC\n",
    "LIMIT 5"
   ]
  },
  {
   "attachments": {},
   "cell_type": "markdown",
   "metadata": {},
   "source": [
    "### Average amount of debt across all the debt indicators"
   ]
  },
  {
   "cell_type": "code",
   "execution_count": 9,
   "metadata": {},
   "outputs": [
    {
     "name": "stdout",
     "output_type": "stream",
     "text": [
      "*  duckdb://\n",
      "Done.\n"
     ]
    },
    {
     "data": {
      "text/html": [
       "<table>\n",
       "    <thead>\n",
       "        <tr>\n",
       "            <th>indicator_code</th>\n",
       "            <th>Total Debt</th>\n",
       "        </tr>\n",
       "    </thead>\n",
       "    <tbody>\n",
       "        <tr>\n",
       "            <td>DT.AMT.DLXF.CD</td>\n",
       "            <td>5904868401.5</td>\n",
       "        </tr>\n",
       "        <tr>\n",
       "            <td>DT.AMT.DPNG.CD</td>\n",
       "            <td>5161194333.8</td>\n",
       "        </tr>\n",
       "        <tr>\n",
       "            <td>DT.DIS.DLXF.CD</td>\n",
       "            <td>2152041216.9</td>\n",
       "        </tr>\n",
       "        <tr>\n",
       "            <td>DT.DIS.OFFT.CD</td>\n",
       "            <td>1958983452.9</td>\n",
       "        </tr>\n",
       "        <tr>\n",
       "            <td>DT.AMT.PRVT.CD</td>\n",
       "            <td>1803694102.0</td>\n",
       "        </tr>\n",
       "        <tr>\n",
       "            <td>DT.INT.DLXF.CD</td>\n",
       "            <td>1644024067.7</td>\n",
       "        </tr>\n",
       "        <tr>\n",
       "            <td>DT.DIS.BLAT.CD</td>\n",
       "            <td>1223139290.4</td>\n",
       "        </tr>\n",
       "        <tr>\n",
       "            <td>DT.INT.DPNG.CD</td>\n",
       "            <td>1220410844.4</td>\n",
       "        </tr>\n",
       "        <tr>\n",
       "            <td>DT.AMT.OFFT.CD</td>\n",
       "            <td>1191187963.1</td>\n",
       "        </tr>\n",
       "        <tr>\n",
       "            <td>DT.AMT.PBND.CD</td>\n",
       "            <td>1082623947.7</td>\n",
       "        </tr>\n",
       "        <tr>\n",
       "            <td>DT.DIS.MLAT.CD</td>\n",
       "            <td>839843678.6</td>\n",
       "        </tr>\n",
       "        <tr>\n",
       "            <td>DT.INT.PBND.CD</td>\n",
       "            <td>804733376.6</td>\n",
       "        </tr>\n",
       "        <tr>\n",
       "            <td>DT.AMT.PROP.CD</td>\n",
       "            <td>746888800.5</td>\n",
       "        </tr>\n",
       "        <tr>\n",
       "            <td>DT.AMT.PCBK.CD</td>\n",
       "            <td>734868742.6</td>\n",
       "        </tr>\n",
       "        <tr>\n",
       "            <td>DT.INT.PRVT.CD</td>\n",
       "            <td>719740180.1</td>\n",
       "        </tr>\n",
       "        <tr>\n",
       "            <td>DT.AMT.BLAT.CD</td>\n",
       "            <td>712619634.7</td>\n",
       "        </tr>\n",
       "        <tr>\n",
       "            <td>DT.AMT.MLAT.CD</td>\n",
       "            <td>490062193.5</td>\n",
       "        </tr>\n",
       "        <tr>\n",
       "            <td>DT.DIS.PRVT.CD</td>\n",
       "            <td>311323264.7</td>\n",
       "        </tr>\n",
       "        <tr>\n",
       "            <td>DT.INT.OFFT.CD</td>\n",
       "            <td>297677339.0</td>\n",
       "        </tr>\n",
       "        <tr>\n",
       "            <td>DT.DIS.PCBK.CD</td>\n",
       "            <td>293305195.6</td>\n",
       "        </tr>\n",
       "        <tr>\n",
       "            <td>DT.INT.BLAT.CD</td>\n",
       "            <td>164093285.6</td>\n",
       "        </tr>\n",
       "        <tr>\n",
       "            <td>DT.INT.PCBK.CD</td>\n",
       "            <td>156647613.1</td>\n",
       "        </tr>\n",
       "        <tr>\n",
       "            <td>DT.INT.MLAT.CD</td>\n",
       "            <td>136230719.2</td>\n",
       "        </tr>\n",
       "        <tr>\n",
       "            <td>DT.DIS.PROP.CD</td>\n",
       "            <td>81135160.7</td>\n",
       "        </tr>\n",
       "        <tr>\n",
       "            <td>DT.INT.PROP.CD</td>\n",
       "            <td>34250651.2</td>\n",
       "        </tr>\n",
       "    </tbody>\n",
       "</table>"
      ],
      "text/plain": [
       "[('DT.AMT.DLXF.CD', 5904868401.5),\n",
       " ('DT.AMT.DPNG.CD', 5161194333.8),\n",
       " ('DT.DIS.DLXF.CD', 2152041216.9),\n",
       " ('DT.DIS.OFFT.CD', 1958983452.9),\n",
       " ('DT.AMT.PRVT.CD', 1803694102.0),\n",
       " ('DT.INT.DLXF.CD', 1644024067.7),\n",
       " ('DT.DIS.BLAT.CD', 1223139290.4),\n",
       " ('DT.INT.DPNG.CD', 1220410844.4),\n",
       " ('DT.AMT.OFFT.CD', 1191187963.1),\n",
       " ('DT.AMT.PBND.CD', 1082623947.7),\n",
       " ('DT.DIS.MLAT.CD', 839843678.6),\n",
       " ('DT.INT.PBND.CD', 804733376.6),\n",
       " ('DT.AMT.PROP.CD', 746888800.5),\n",
       " ('DT.AMT.PCBK.CD', 734868742.6),\n",
       " ('DT.INT.PRVT.CD', 719740180.1),\n",
       " ('DT.AMT.BLAT.CD', 712619634.7),\n",
       " ('DT.AMT.MLAT.CD', 490062193.5),\n",
       " ('DT.DIS.PRVT.CD', 311323264.7),\n",
       " ('DT.INT.OFFT.CD', 297677339.0),\n",
       " ('DT.DIS.PCBK.CD', 293305195.6),\n",
       " ('DT.INT.BLAT.CD', 164093285.6),\n",
       " ('DT.INT.PCBK.CD', 156647613.1),\n",
       " ('DT.INT.MLAT.CD', 136230719.2),\n",
       " ('DT.DIS.PROP.CD', 81135160.7),\n",
       " ('DT.INT.PROP.CD', 34250651.2)]"
      ]
     },
     "execution_count": 9,
     "metadata": {},
     "output_type": "execute_result"
    }
   ],
   "source": [
    "%%sql\n",
    "SELECT indicator_code,ROUND(AVG(debt),1) as \"Total Debt\"\n",
    "FROM debt_data\n",
    "GROUP BY indicator_code\n",
    "ORDER BY \"Total Debt\" DESC"
   ]
  },
  {
   "cell_type": "markdown",
   "metadata": {},
   "source": [
    "### Most common debt indicators"
   ]
  },
  {
   "cell_type": "code",
   "execution_count": 10,
   "metadata": {},
   "outputs": [
    {
     "name": "stdout",
     "output_type": "stream",
     "text": [
      "*  duckdb://\n",
      "Done.\n"
     ]
    },
    {
     "data": {
      "text/html": [
       "<table>\n",
       "    <thead>\n",
       "        <tr>\n",
       "            <th>indicator_code</th>\n",
       "        </tr>\n",
       "    </thead>\n",
       "    <tbody>\n",
       "        <tr>\n",
       "            <td>DT.INT.DLXF.CD</td>\n",
       "        </tr>\n",
       "        <tr>\n",
       "            <td>DT.AMT.MLAT.CD</td>\n",
       "        </tr>\n",
       "        <tr>\n",
       "            <td>DT.INT.MLAT.CD</td>\n",
       "        </tr>\n",
       "        <tr>\n",
       "            <td>DT.AMT.OFFT.CD</td>\n",
       "        </tr>\n",
       "        <tr>\n",
       "            <td>DT.INT.OFFT.CD</td>\n",
       "        </tr>\n",
       "        <tr>\n",
       "            <td>DT.AMT.DLXF.CD</td>\n",
       "        </tr>\n",
       "    </tbody>\n",
       "</table>"
      ],
      "text/plain": [
       "[('DT.INT.DLXF.CD',),\n",
       " ('DT.AMT.MLAT.CD',),\n",
       " ('DT.INT.MLAT.CD',),\n",
       " ('DT.AMT.OFFT.CD',),\n",
       " ('DT.INT.OFFT.CD',),\n",
       " ('DT.AMT.DLXF.CD',)]"
      ]
     },
     "execution_count": 10,
     "metadata": {},
     "output_type": "execute_result"
    }
   ],
   "source": [
    "%%sql\n",
    "WITH cte as (\n",
    "SELECT indicator_code,COUNT(indicator_code) as \"Debt_Count\"\n",
    "FROM debt_data\n",
    "GROUP BY indicator_code\n",
    "ORDER BY \"Debt_Count\" DESC)\n",
    "\n",
    "SELECT indicator_code FROM cte\n",
    "WHERE Debt_Count = (select MAX(Debt_Count) FROM cte)"
   ]
  },
  {
   "attachments": {},
   "cell_type": "markdown",
   "metadata": {},
   "source": [
    "### Which debt_indicator(s) were not opted by the Countries"
   ]
  },
  {
   "cell_type": "code",
   "execution_count": 23,
   "metadata": {},
   "outputs": [
    {
     "name": "stdout",
     "output_type": "stream",
     "text": [
      "*  duckdb://\n",
      "Done.\n"
     ]
    },
    {
     "data": {
      "text/html": [
       "<table>\n",
       "    <thead>\n",
       "        <tr>\n",
       "            <th>country_name</th>\n",
       "            <th>indicator(s)</th>\n",
       "        </tr>\n",
       "    </thead>\n",
       "    <tbody>\n",
       "        <tr>\n",
       "            <td>Albania</td>\n",
       "            <td>DT.AMT.PBND.CD</td>\n",
       "        </tr>\n",
       "        <tr>\n",
       "            <td>Algeria</td>\n",
       "            <td>DT.AMT.MLAT.CD   DT.AMT.PROP.CD</td>\n",
       "        </tr>\n",
       "        <tr>\n",
       "            <td>Armenia</td>\n",
       "            <td>DT.AMT.PBND.CD</td>\n",
       "        </tr>\n",
       "        <tr>\n",
       "            <td>Azerbaijan</td>\n",
       "            <td>DT.AMT.PBND.CD</td>\n",
       "        </tr>\n",
       "        <tr>\n",
       "            <td>Bangladesh</td>\n",
       "            <td>DT.INT.PCBK.CD</td>\n",
       "        </tr>\n",
       "        <tr>\n",
       "            <td>Belarus</td>\n",
       "            <td>DT.AMT.PBND.CD</td>\n",
       "        </tr>\n",
       "        <tr>\n",
       "            <td>Belize</td>\n",
       "            <td>DT.AMT.PCBK.CD</td>\n",
       "        </tr>\n",
       "        <tr>\n",
       "            <td>Bolivia</td>\n",
       "            <td>DT.AMT.PBND.CD</td>\n",
       "        </tr>\n",
       "        <tr>\n",
       "            <td>Bulgaria</td>\n",
       "            <td>DT.AMT.PBND.CD</td>\n",
       "        </tr>\n",
       "        <tr>\n",
       "            <td>Chad</td>\n",
       "            <td>DT.AMT.PROP.CD</td>\n",
       "        </tr>\n",
       "        <tr>\n",
       "            <td>Congo, Dem. Rep.</td>\n",
       "            <td>DT.INT.PCBK.CD   DT.INT.PRVT.CD</td>\n",
       "        </tr>\n",
       "        <tr>\n",
       "            <td>Congo, Rep.</td>\n",
       "            <td>DT.AMT.PBND.CD</td>\n",
       "        </tr>\n",
       "        <tr>\n",
       "            <td>Costa Rica</td>\n",
       "            <td>DT.AMT.PBND.CD</td>\n",
       "        </tr>\n",
       "        <tr>\n",
       "            <td>Dominican Republic</td>\n",
       "            <td>DT.AMT.PBND.CD</td>\n",
       "        </tr>\n",
       "        <tr>\n",
       "            <td>Egypt, Arab Rep.</td>\n",
       "            <td>DT.AMT.PBND.CD</td>\n",
       "        </tr>\n",
       "        <tr>\n",
       "            <td>Eswatini</td>\n",
       "            <td>DT.AMT.PCBK.CD   DT.AMT.PRVT.CD</td>\n",
       "        </tr>\n",
       "        <tr>\n",
       "            <td>Fiji</td>\n",
       "            <td>DT.AMT.PBND.CD   DT.AMT.PRVT.CD</td>\n",
       "        </tr>\n",
       "        <tr>\n",
       "            <td>Gabon</td>\n",
       "            <td>DT.AMT.PBND.CD</td>\n",
       "        </tr>\n",
       "        <tr>\n",
       "            <td>Georgia</td>\n",
       "            <td>DT.AMT.PBND.CD</td>\n",
       "        </tr>\n",
       "        <tr>\n",
       "            <td>Ghana</td>\n",
       "            <td>DT.AMT.PBND.CD   DT.AMT.DPNG.CD</td>\n",
       "        </tr>\n",
       "        <tr>\n",
       "            <td>Guinea</td>\n",
       "            <td>DT.AMT.PBND.CD   DT.AMT.PRVT.CD</td>\n",
       "        </tr>\n",
       "        <tr>\n",
       "            <td>Haiti</td>\n",
       "            <td>DT.INT.DPNG.CD   DT.AMT.DPNG.CD</td>\n",
       "        </tr>\n",
       "        <tr>\n",
       "            <td>Honduras</td>\n",
       "            <td>DT.AMT.PBND.CD</td>\n",
       "        </tr>\n",
       "        <tr>\n",
       "            <td>Kazakhstan</td>\n",
       "            <td>DT.AMT.PBND.CD   DT.AMT.PRVT.CD</td>\n",
       "        </tr>\n",
       "        <tr>\n",
       "            <td>Macedonia, FYR</td>\n",
       "            <td>DT.INT.PROP.CD   DT.AMT.PBND.CD</td>\n",
       "        </tr>\n",
       "        <tr>\n",
       "            <td>Mongolia</td>\n",
       "            <td>DT.AMT.PBND.CD</td>\n",
       "        </tr>\n",
       "        <tr>\n",
       "            <td>Morocco</td>\n",
       "            <td>DT.AMT.PBND.CD</td>\n",
       "        </tr>\n",
       "        <tr>\n",
       "            <td>Myanmar</td>\n",
       "            <td>DT.AMT.PROP.CD   DT.AMT.PRVT.CD</td>\n",
       "        </tr>\n",
       "        <tr>\n",
       "            <td>Nigeria</td>\n",
       "            <td>DT.AMT.PBND.CD   DT.AMT.PRVT.CD</td>\n",
       "        </tr>\n",
       "        <tr>\n",
       "            <td>Paraguay</td>\n",
       "            <td>DT.AMT.PBND.CD</td>\n",
       "        </tr>\n",
       "        <tr>\n",
       "            <td>Senegal</td>\n",
       "            <td>DT.AMT.PBND.CD</td>\n",
       "        </tr>\n",
       "        <tr>\n",
       "            <td>Eritrea</td>\n",
       "            <td>DT.AMT.PROP.CD   DT.AMT.PRVT.CD</td>\n",
       "        </tr>\n",
       "        <tr>\n",
       "            <td>Ethiopia</td>\n",
       "            <td>DT.AMT.PBND.CD</td>\n",
       "        </tr>\n",
       "        <tr>\n",
       "            <td>Guatemala</td>\n",
       "            <td>DT.AMT.PBND.CD</td>\n",
       "        </tr>\n",
       "        <tr>\n",
       "            <td>Maldives</td>\n",
       "            <td>DT.AMT.PBND.CD</td>\n",
       "        </tr>\n",
       "        <tr>\n",
       "            <td>Mali</td>\n",
       "            <td>DT.INT.PCBK.CD   DT.INT.PRVT.CD</td>\n",
       "        </tr>\n",
       "        <tr>\n",
       "            <td>Rwanda</td>\n",
       "            <td>DT.AMT.PBND.CD   DT.AMT.PRVT.CD</td>\n",
       "        </tr>\n",
       "        <tr>\n",
       "            <td>Cameroon</td>\n",
       "            <td>DT.AMT.PBND.CD</td>\n",
       "        </tr>\n",
       "        <tr>\n",
       "            <td>Mozambique</td>\n",
       "            <td>DT.AMT.PBND.CD</td>\n",
       "        </tr>\n",
       "        <tr>\n",
       "            <td>Serbia</td>\n",
       "            <td>DT.AMT.PBND.CD</td>\n",
       "        </tr>\n",
       "        <tr>\n",
       "            <td>Tanzania</td>\n",
       "            <td>DT.INT.PROP.CD</td>\n",
       "        </tr>\n",
       "        <tr>\n",
       "            <td>Thailand</td>\n",
       "            <td>DT.AMT.PCBK.CD   DT.AMT.PRVT.CD   DT.AMT.PBND.CD</td>\n",
       "        </tr>\n",
       "        <tr>\n",
       "            <td>Tonga</td>\n",
       "            <td>DT.INT.PRVT.CD   DT.INT.PCBK.CD</td>\n",
       "        </tr>\n",
       "        <tr>\n",
       "            <td>Zambia</td>\n",
       "            <td>DT.AMT.PBND.CD</td>\n",
       "        </tr>\n",
       "    </tbody>\n",
       "</table>"
      ],
      "text/plain": [
       "[('Albania', 'DT.AMT.PBND.CD'),\n",
       " ('Algeria', 'DT.AMT.MLAT.CD   DT.AMT.PROP.CD'),\n",
       " ('Armenia', 'DT.AMT.PBND.CD'),\n",
       " ('Azerbaijan', 'DT.AMT.PBND.CD'),\n",
       " ('Bangladesh', 'DT.INT.PCBK.CD'),\n",
       " ('Belarus', 'DT.AMT.PBND.CD'),\n",
       " ('Belize', 'DT.AMT.PCBK.CD'),\n",
       " ('Bolivia', 'DT.AMT.PBND.CD'),\n",
       " ('Bulgaria', 'DT.AMT.PBND.CD'),\n",
       " ('Chad', 'DT.AMT.PROP.CD'),\n",
       " ('Congo, Dem. Rep.', 'DT.INT.PCBK.CD   DT.INT.PRVT.CD'),\n",
       " ('Congo, Rep.', 'DT.AMT.PBND.CD'),\n",
       " ('Costa Rica', 'DT.AMT.PBND.CD'),\n",
       " ('Dominican Republic', 'DT.AMT.PBND.CD'),\n",
       " ('Egypt, Arab Rep.', 'DT.AMT.PBND.CD'),\n",
       " ('Eswatini', 'DT.AMT.PCBK.CD   DT.AMT.PRVT.CD'),\n",
       " ('Fiji', 'DT.AMT.PBND.CD   DT.AMT.PRVT.CD'),\n",
       " ('Gabon', 'DT.AMT.PBND.CD'),\n",
       " ('Georgia', 'DT.AMT.PBND.CD'),\n",
       " ('Ghana', 'DT.AMT.PBND.CD   DT.AMT.DPNG.CD'),\n",
       " ('Guinea', 'DT.AMT.PBND.CD   DT.AMT.PRVT.CD'),\n",
       " ('Haiti', 'DT.INT.DPNG.CD   DT.AMT.DPNG.CD'),\n",
       " ('Honduras', 'DT.AMT.PBND.CD'),\n",
       " ('Kazakhstan', 'DT.AMT.PBND.CD   DT.AMT.PRVT.CD'),\n",
       " ('Macedonia, FYR', 'DT.INT.PROP.CD   DT.AMT.PBND.CD'),\n",
       " ('Mongolia', 'DT.AMT.PBND.CD'),\n",
       " ('Morocco', 'DT.AMT.PBND.CD'),\n",
       " ('Myanmar', 'DT.AMT.PROP.CD   DT.AMT.PRVT.CD'),\n",
       " ('Nigeria', 'DT.AMT.PBND.CD   DT.AMT.PRVT.CD'),\n",
       " ('Paraguay', 'DT.AMT.PBND.CD'),\n",
       " ('Senegal', 'DT.AMT.PBND.CD'),\n",
       " ('Eritrea', 'DT.AMT.PROP.CD   DT.AMT.PRVT.CD'),\n",
       " ('Ethiopia', 'DT.AMT.PBND.CD'),\n",
       " ('Guatemala', 'DT.AMT.PBND.CD'),\n",
       " ('Maldives', 'DT.AMT.PBND.CD'),\n",
       " ('Mali', 'DT.INT.PCBK.CD   DT.INT.PRVT.CD'),\n",
       " ('Rwanda', 'DT.AMT.PBND.CD   DT.AMT.PRVT.CD'),\n",
       " ('Cameroon', 'DT.AMT.PBND.CD'),\n",
       " ('Mozambique', 'DT.AMT.PBND.CD'),\n",
       " ('Serbia', 'DT.AMT.PBND.CD'),\n",
       " ('Tanzania', 'DT.INT.PROP.CD'),\n",
       " ('Thailand', 'DT.AMT.PCBK.CD   DT.AMT.PRVT.CD   DT.AMT.PBND.CD'),\n",
       " ('Tonga', 'DT.INT.PRVT.CD   DT.INT.PCBK.CD'),\n",
       " ('Zambia', 'DT.AMT.PBND.CD')]"
      ]
     },
     "execution_count": 23,
     "metadata": {},
     "output_type": "execute_result"
    }
   ],
   "source": [
    "%%sql\n",
    "SELECT country_name, GROUP_CONCAT(indicator_code,'   ') \"indicator(s)\" FROM\n",
    "(\n",
    "SELECT country_name,indicator_code\n",
    "FROM debt_data\n",
    "GROUP BY country_name,indicator_code\n",
    "HAVING sum(debt)=0\n",
    ")\n",
    "GROUP BY country_name"
   ]
  },
  {
   "attachments": {},
   "cell_type": "markdown",
   "metadata": {},
   "source": [
    "### Most common not opted indicator by the countries"
   ]
  },
  {
   "cell_type": "code",
   "execution_count": 12,
   "metadata": {},
   "outputs": [
    {
     "name": "stdout",
     "output_type": "stream",
     "text": [
      "*  duckdb://\n",
      "Done.\n"
     ]
    },
    {
     "data": {
      "text/html": [
       "<table>\n",
       "    <thead>\n",
       "        <tr>\n",
       "            <th>indicator_code</th>\n",
       "            <th>cnt</th>\n",
       "        </tr>\n",
       "    </thead>\n",
       "    <tbody>\n",
       "        <tr>\n",
       "            <td>DT.AMT.PBND.CD</td>\n",
       "            <td>32</td>\n",
       "        </tr>\n",
       "        <tr>\n",
       "            <td>DT.AMT.PRVT.CD</td>\n",
       "            <td>9</td>\n",
       "        </tr>\n",
       "        <tr>\n",
       "            <td>DT.AMT.PROP.CD</td>\n",
       "            <td>4</td>\n",
       "        </tr>\n",
       "        <tr>\n",
       "            <td>DT.INT.PCBK.CD</td>\n",
       "            <td>4</td>\n",
       "        </tr>\n",
       "        <tr>\n",
       "            <td>DT.AMT.PCBK.CD</td>\n",
       "            <td>3</td>\n",
       "        </tr>\n",
       "        <tr>\n",
       "            <td>DT.INT.PRVT.CD</td>\n",
       "            <td>3</td>\n",
       "        </tr>\n",
       "        <tr>\n",
       "            <td>DT.AMT.DPNG.CD</td>\n",
       "            <td>2</td>\n",
       "        </tr>\n",
       "        <tr>\n",
       "            <td>DT.INT.PROP.CD</td>\n",
       "            <td>2</td>\n",
       "        </tr>\n",
       "        <tr>\n",
       "            <td>DT.AMT.MLAT.CD</td>\n",
       "            <td>1</td>\n",
       "        </tr>\n",
       "        <tr>\n",
       "            <td>DT.INT.DPNG.CD</td>\n",
       "            <td>1</td>\n",
       "        </tr>\n",
       "    </tbody>\n",
       "</table>"
      ],
      "text/plain": [
       "[('DT.AMT.PBND.CD', 32),\n",
       " ('DT.AMT.PRVT.CD', 9),\n",
       " ('DT.AMT.PROP.CD', 4),\n",
       " ('DT.INT.PCBK.CD', 4),\n",
       " ('DT.AMT.PCBK.CD', 3),\n",
       " ('DT.INT.PRVT.CD', 3),\n",
       " ('DT.AMT.DPNG.CD', 2),\n",
       " ('DT.INT.PROP.CD', 2),\n",
       " ('DT.AMT.MLAT.CD', 1),\n",
       " ('DT.INT.DPNG.CD', 1)]"
      ]
     },
     "execution_count": 12,
     "metadata": {},
     "output_type": "execute_result"
    }
   ],
   "source": [
    "%%sql\n",
    "SELECT indicator_code,COUNT(*) cnt FROM(\n",
    "SELECT country_name,indicator_code\n",
    "FROM debt_data\n",
    "GROUP BY country_name,indicator_code\n",
    "HAVING sum(debt)=0) \n",
    "GROUP BY indicator_code\n",
    "ORDER BY cnt DESC"
   ]
  },
  {
   "cell_type": "code",
   "execution_count": null,
   "metadata": {},
   "outputs": [],
   "source": []
  }
 ],
 "metadata": {
  "kernelspec": {
   "display_name": "mws",
   "language": "python",
   "name": "python3"
  },
  "language_info": {
   "codemirror_mode": {
    "name": "ipython",
    "version": 3
   },
   "file_extension": ".py",
   "mimetype": "text/x-python",
   "name": "python",
   "nbconvert_exporter": "python",
   "pygments_lexer": "ipython3",
   "version": "3.8.16"
  },
  "orig_nbformat": 4
 },
 "nbformat": 4,
 "nbformat_minor": 2
}
